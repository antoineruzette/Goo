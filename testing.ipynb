{
 "cells": [
  {
   "cell_type": "code",
   "execution_count": 1,
   "metadata": {},
   "outputs": [],
   "source": [
    "import tellurium as te"
   ]
  },
  {
   "cell_type": "code",
   "execution_count": 2,
   "id": "b0ded074",
   "metadata": {},
   "outputs": [],
   "source": [
    "class Gene:\n",
    "    def __init__(self, name):\n",
    "        self.name = name\n",
    "    \n",
    "    def __str__(self):\n",
    "        return self.name"
   ]
  },
  {
   "cell_type": "code",
   "execution_count": 3,
   "id": "04c4243d",
   "metadata": {},
   "outputs": [],
   "source": [
    "class Circuit:\n",
    "    def __init__(self, *components):\n",
    "        self.circuit = \"\\n\".join(components)\n",
    "\n",
    "    def __str__(self):\n",
    "        return self.circuit\n",
    "\n",
    "def circuit_degrade(x: Gene, k: float):\n",
    "    return f\"{x} -> ; {k} * {x}\"\n",
    "\n",
    "def circuit_and(x: Gene, y: Gene, z: Gene, nx: float=2, ny: float=2):\n",
    "    return f\" -> {z}; {x}^{nx} * {y}^{ny} / (1 + {x}^{nx}) / (1 + {y}^{ny})\"\n",
    "\n",
    "x = Gene(\"xa\")\n",
    "y = Gene(\"ya\")\n",
    "z = Gene(\"za\")\n",
    "\n",
    "circuit = Circuit(\n",
    "    circuit_degrade(x, 2),\n",
    "    circuit_and(x, y, z, 2, 2),\n",
    ")"
   ]
  },
  {
   "cell_type": "code",
   "execution_count": 8,
   "id": "b16c3444",
   "metadata": {},
   "outputs": [],
   "source": [
    "from typing import Any\n",
    "\n",
    "\n",
    "class Cell:\n",
    "    def __init__(self, name, circuit):\n",
    "        self.name = name\n",
    "        self.genes = {}\n",
    "        self._circuit = circuit\n",
    "\n",
    "    def update_genes(self, result):\n",
    "        for col in result.colnames[1:]:\n",
    "            gene_name = col[1:-1]\n",
    "            gene_level = result[col][-1]\n",
    "            self[gene_name] = gene_level\n",
    "    \n",
    "    def __setitem__(self, k, v):\n",
    "        self.genes[str(k)] = v\n",
    "\n",
    "    def __contains__(self, k):\n",
    "        return str(k) in self.genes()\n",
    "\n",
    "    def __getitem__(self, k):\n",
    "        return self.genes[str(k)]\n",
    "    \n",
    "    @property\n",
    "    def circuit(self):\n",
    "        prefix = f\"model {self.name}\"\n",
    "        suffix = \"end\"\n",
    "        gene_levels = \"\\n\".join([f\"{gene} = {level}\" for gene, level in self.genes.items()])\n",
    "        return \"\\n\".join([prefix, str(self._circuit), gene_levels, suffix])\n",
    "        "
   ]
  },
  {
   "cell_type": "code",
   "execution_count": 5,
   "id": "b42c4ca9",
   "metadata": {},
   "outputs": [
    {
     "name": "stdout",
     "output_type": "stream",
     "text": [
      "model cell1\n",
      "xa -> ; 2 * xa\n",
      " -> za; xa^2 * ya^2 / (1 + xa^2) / (1 + ya^2)\n",
      "xa = 1\n",
      "ya = 0.5\n",
      "za = 0\n",
      "end\n"
     ]
    }
   ],
   "source": [
    "cell1 = Cell(\"cell1\", circuit)\n",
    "cell1[x] = 1\n",
    "cell1[y] = 0.5\n",
    "cell1[z] = 0\n",
    "\n",
    "print(cell1.circuit)"
   ]
  },
  {
   "cell_type": "code",
   "execution_count": 6,
   "id": "2643ea1a",
   "metadata": {},
   "outputs": [
    {
     "data": {
      "text/plain": [
       "['time', '[xa]', '[za]']"
      ]
     },
     "execution_count": 6,
     "metadata": {},
     "output_type": "execute_result"
    }
   ],
   "source": [
    "rr = te.loada(cell1.circuit)\n",
    "result = rr.simulate(0, 1, 5)\n",
    "result.colnames"
   ]
  },
  {
   "cell_type": "code",
   "execution_count": 10,
   "id": "3d1d1d48",
   "metadata": {},
   "outputs": [
    {
     "name": "stdout",
     "output_type": "stream",
     "text": [
      "{<__main__.Gene object at 0x14f4c2aa0>: 1, <__main__.Gene object at 0x14f4c3820>: 0.5, <__main__.Gene object at 0x14f4c1600>: 0}\n"
     ]
    }
   ],
   "source": [
    "cell1.genes"
   ]
  },
  {
   "cell_type": "code",
   "execution_count": null,
   "id": "40105e7b",
   "metadata": {},
   "outputs": [],
   "source": []
  },
  {
   "cell_type": "code",
   "execution_count": null,
   "id": "6a9d89a1",
   "metadata": {},
   "outputs": [],
   "source": []
  }
 ],
 "metadata": {
  "kernelspec": {
   "display_name": ".venv",
   "language": "python",
   "name": "python3"
  },
  "language_info": {
   "codemirror_mode": {
    "name": "ipython",
    "version": 3
   },
   "file_extension": ".py",
   "mimetype": "text/x-python",
   "name": "python",
   "nbconvert_exporter": "python",
   "pygments_lexer": "ipython3",
   "version": "3.10.0"
  }
 },
 "nbformat": 4,
 "nbformat_minor": 5
}
